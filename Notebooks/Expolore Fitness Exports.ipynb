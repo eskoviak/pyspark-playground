{
 "cells": [
  {
   "cell_type": "markdown",
   "metadata": {},
   "source": [
    "# Exporing the data exported frm the Fitness app\n",
    "\n",
    "Using CSV app"
   ]
  },
  {
   "cell_type": "code",
   "execution_count": 1,
   "metadata": {},
   "outputs": [],
   "source": [
    "#import matplotlib.pyplot as plt\n",
    "import pandas as pd\n",
    "import numpy as np\n",
    "#from sklearn.linear_model import LinearRegression\n",
    "#from sklearn.model_selection import train_test_split\n",
    "#from sklearn.metrics import mean_squared_error\n",
    "from pathlib import Path\n",
    "from os import path, listdir\n",
    "import re\n",
    "\n",
    "home = Path(path.abspath('..'))\n",
    "user_home = Path('/Users/edmundlskoviak/')\n",
    "data = home / 'book_data'\n",
    "fitness_data = user_home / 'iCloud' / 'Data Sets' /'HealthAll_2024-12-345_14-58-25_SimpleHealthExportCSV'"
   ]
  },
  {
   "cell_type": "code",
   "execution_count": 2,
   "metadata": {},
   "outputs": [
    {
     "name": "stderr",
     "output_type": "stream",
     "text": [
      "/var/folders/hb/rg77cvs94cj4d3ry4mdmgn6h0000gn/T/ipykernel_81160/3707082997.py:7: DtypeWarning: Columns (2) have mixed types. Specify dtype option on import or set low_memory=False.\n",
      "  HQQuantity_df = pd.read_csv(fitness_data / csv_files[0], skiprows=0, header=1)\n"
     ]
    }
   ],
   "source": [
    "# Test the fitness_data path\n",
    "#json_files = [f for f in listdir(json_path) if path.isfile(path.join(json_path, f)) and f.split('.')[1] == 'json']\n",
    "\n",
    "HKQuantity = re.compile(r'^HKQuantity')\n",
    "csv_files = [f for f in listdir(fitness_data) if path.isfile(path.join(fitness_data, f)) and f.split('.')[1] == 'csv' and HKQuantity.match(f)]\n",
    "\n",
    "HQQuantity_df = pd.read_csv(fitness_data / csv_files[0], skiprows=0, header=1)\n",
    "\n",
    "\n",
    "#print(csv_files[0])        \n",
    "\n"
   ]
  }
 ],
 "metadata": {
  "kernelspec": {
   "display_name": "vpython3.12",
   "language": "python",
   "name": "python3"
  },
  "language_info": {
   "codemirror_mode": {
    "name": "ipython",
    "version": 3
   },
   "file_extension": ".py",
   "mimetype": "text/x-python",
   "name": "python",
   "nbconvert_exporter": "python",
   "pygments_lexer": "ipython3",
   "version": "3.12.6"
  }
 },
 "nbformat": 4,
 "nbformat_minor": 2
}
