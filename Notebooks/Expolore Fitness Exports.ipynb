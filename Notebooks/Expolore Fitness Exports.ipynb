{
 "cells": [
  {
   "cell_type": "markdown",
   "metadata": {},
   "source": [
    "# Exporing the data exported frm the Fitness app\n",
    "\n",
    "Using CSV app"
   ]
  },
  {
   "cell_type": "code",
   "execution_count": 1,
   "metadata": {},
   "outputs": [],
   "source": [
    "#import matplotlib.pyplot as plt\n",
    "import pandas as pd\n",
    "import numpy as np\n",
    "#from sklearn.linear_model import LinearRegression\n",
    "#from sklearn.model_selection import train_test_split\n",
    "#from sklearn.metrics import mean_squared_error\n",
    "from pathlib import Path\n",
    "from os import path, listdir\n",
    "import re\n",
    "from datetime import datetime,tzinfo\n",
    "from dateutil import parser\n",
    "\n",
    "home = Path(path.abspath('..'))\n",
    "user_home = Path('/Users/edmundlskoviak/')\n",
    "data = home / 'book_data'\n",
    "fitness_data = user_home / 'iCloud' / 'Data Sets' /'HealthAll_2024-12-345_14-58-25_SimpleHealthExportCSV'"
   ]
  },
  {
   "cell_type": "code",
   "execution_count": 3,
   "metadata": {},
   "outputs": [
    {
     "name": "stderr",
     "output_type": "stream",
     "text": [
      "/var/folders/hb/rg77cvs94cj4d3ry4mdmgn6h0000gn/T/ipykernel_11108/4108922160.py:12: DtypeWarning: Columns (2) have mixed types. Specify dtype option on import or set low_memory=False.\n",
      "  HKQuantity_df = pd.read_csv(fitness_data / csv_files[0], skiprows=0, header=1, usecols=columns, converters=converters)\n"
     ]
    }
   ],
   "source": [
    "# Test the fitness_data path\n",
    "#json_files = [f for f in listdir(json_path) if path.isfile(path.join(json_path, f)) and f.split('.')[1] == 'json']\n",
    "def convertDate(d : str) -> datetime:\n",
    "    return parser.parse(d)\n",
    "\n",
    "\n",
    "HKQuantity = re.compile(r'^HKQuantity')\n",
    "csv_files = [f for f in listdir(fitness_data) if path.isfile(path.join(fitness_data, f)) and f.split('.')[1] == 'csv' and HKQuantity.match(f)]\n",
    "#dtypes = {\"startDate\": datetime64[ns, tzutc()], \"endDate\":datetime64[ns, tzutc()]}\n",
    "converters={\"startDate\" : convertDate, \"endDate\" : convertDate}\n",
    "columns = ['type','sourceVersion','productType','startDate','endDate','unit','value']\n",
    "HKQuantity_df = pd.read_csv(fitness_data / csv_files[0], skiprows=0, header=1, usecols=columns, converters=converters)\n",
    "\n",
    "\n",
    "#print(csv_files[0])        \n",
    "\n"
   ]
  },
  {
   "cell_type": "code",
   "execution_count": 4,
   "metadata": {},
   "outputs": [
    {
     "name": "stdout",
     "output_type": "stream",
     "text": [
      "<class 'pandas.core.frame.DataFrame'>\n",
      "RangeIndex: 276739 entries, 0 to 276738\n",
      "Data columns (total 7 columns):\n",
      " #   Column         Non-Null Count   Dtype                  \n",
      "---  ------         --------------   -----                  \n",
      " 0   type           276739 non-null  object                 \n",
      " 1   sourceVersion  276739 non-null  object                 \n",
      " 2   productType    276739 non-null  object                 \n",
      " 3   startDate      276739 non-null  datetime64[ns, tzutc()]\n",
      " 4   endDate        276739 non-null  datetime64[ns, tzutc()]\n",
      " 5   unit           276739 non-null  object                 \n",
      " 6   value          276739 non-null  float64                \n",
      "dtypes: datetime64[ns, tzutc()](2), float64(1), object(4)\n",
      "memory usage: 14.8+ MB\n"
     ]
    }
   ],
   "source": [
    "HKQuantity_df.info()"
   ]
  },
  {
   "cell_type": "code",
   "execution_count": null,
   "metadata": {},
   "outputs": [],
   "source": [
    "HKQuantity_filtered_df = HKQuantity_df[HKQuantity_df['startDate'] < datetime(2024,9,2)]"
   ]
  },
  {
   "cell_type": "code",
   "execution_count": 31,
   "metadata": {},
   "outputs": [
    {
     "name": "stdout",
     "output_type": "stream",
     "text": [
      "2024-09-01 00:00:00\n"
     ]
    }
   ],
   "source": [
    "print(datetime(2024,9,1))"
   ]
  }
 ],
 "metadata": {
  "kernelspec": {
   "display_name": "vpython3.12",
   "language": "python",
   "name": "python3"
  },
  "language_info": {
   "codemirror_mode": {
    "name": "ipython",
    "version": 3
   },
   "file_extension": ".py",
   "mimetype": "text/x-python",
   "name": "python",
   "nbconvert_exporter": "python",
   "pygments_lexer": "ipython3",
   "version": "3.12.6"
  }
 },
 "nbformat": 4,
 "nbformat_minor": 2
}
